{
 "cells": [
  {
   "cell_type": "code",
   "execution_count": 1,
   "id": "771b881a",
   "metadata": {
    "_cell_guid": "b1076dfc-b9ad-4769-8c92-a6c4dae69d19",
    "_uuid": "8f2839f25d086af736a60e9eeb907d3b93b6e0e5",
    "execution": {
     "iopub.execute_input": "2025-07-12T12:02:02.483274Z",
     "iopub.status.busy": "2025-07-12T12:02:02.482189Z",
     "iopub.status.idle": "2025-07-12T12:02:04.477462Z",
     "shell.execute_reply": "2025-07-12T12:02:04.476366Z"
    },
    "papermill": {
     "duration": 2.002964,
     "end_time": "2025-07-12T12:02:04.479299",
     "exception": false,
     "start_time": "2025-07-12T12:02:02.476335",
     "status": "completed"
    },
    "tags": []
   },
   "outputs": [],
   "source": [
    "# This Python 3 environment comes with many helpful analytics libraries installed\n",
    "# It is defined by the kaggle/python Docker image: https://github.com/kaggle/docker-python\n",
    "# For example, here's several helpful packages to load\n",
    "\n",
    "import numpy as np # linear algebra\n",
    "import pandas as pd # data processing, CSV file I/O (e.g. pd.read_csv)\n",
    "\n",
    "# Input data files are available in the read-only \"../input/\" directory\n",
    "# For example, running this (by clicking run or pressing Shift+Enter) will list all files under the input directory\n",
    "\n",
    "import os\n",
    "for dirname, _, filenames in os.walk('/kaggle/input'):\n",
    "    for filename in filenames:\n",
    "        print(os.path.join(dirname, filename))\n",
    "\n",
    "# You can write up to 20GB to the current directory (/kaggle/working/) that gets preserved as output when you create a version using \"Save & Run All\" \n",
    "# You can also write temporary files to /kaggle/temp/, but they won't be saved outside of the current session"
   ]
  },
  {
   "cell_type": "code",
   "execution_count": 2,
   "id": "e452a652",
   "metadata": {
    "execution": {
     "iopub.execute_input": "2025-07-12T12:02:04.489071Z",
     "iopub.status.busy": "2025-07-12T12:02:04.488190Z",
     "iopub.status.idle": "2025-07-12T12:02:04.492424Z",
     "shell.execute_reply": "2025-07-12T12:02:04.491632Z"
    },
    "papermill": {
     "duration": 0.0107,
     "end_time": "2025-07-12T12:02:04.494190",
     "exception": false,
     "start_time": "2025-07-12T12:02:04.483490",
     "status": "completed"
    },
    "tags": []
   },
   "outputs": [],
   "source": [
    "str='Hello'"
   ]
  },
  {
   "cell_type": "code",
   "execution_count": 3,
   "id": "b84b363e",
   "metadata": {
    "execution": {
     "iopub.execute_input": "2025-07-12T12:02:04.502442Z",
     "iopub.status.busy": "2025-07-12T12:02:04.502193Z",
     "iopub.status.idle": "2025-07-12T12:02:04.507427Z",
     "shell.execute_reply": "2025-07-12T12:02:04.506409Z"
    },
    "papermill": {
     "duration": 0.010805,
     "end_time": "2025-07-12T12:02:04.508872",
     "exception": false,
     "start_time": "2025-07-12T12:02:04.498067",
     "status": "completed"
    },
    "tags": []
   },
   "outputs": [
    {
     "name": "stdout",
     "output_type": "stream",
     "text": [
      "Hello\n"
     ]
    }
   ],
   "source": [
    "print(str)"
   ]
  },
  {
   "cell_type": "code",
   "execution_count": 4,
   "id": "c359d2ab",
   "metadata": {
    "execution": {
     "iopub.execute_input": "2025-07-12T12:02:04.517267Z",
     "iopub.status.busy": "2025-07-12T12:02:04.516904Z",
     "iopub.status.idle": "2025-07-12T12:02:04.522754Z",
     "shell.execute_reply": "2025-07-12T12:02:04.521627Z"
    },
    "papermill": {
     "duration": 0.012121,
     "end_time": "2025-07-12T12:02:04.524477",
     "exception": false,
     "start_time": "2025-07-12T12:02:04.512356",
     "status": "completed"
    },
    "tags": []
   },
   "outputs": [
    {
     "name": "stdout",
     "output_type": "stream",
     "text": [
      "True\n",
      "False\n",
      "False\n"
     ]
    }
   ],
   "source": [
    "print(str.istitle())\n",
    "print(str.endswith('p'))\n",
    "print(str.isspace())"
   ]
  },
  {
   "cell_type": "markdown",
   "id": "0308a936",
   "metadata": {
    "papermill": {
     "duration": 0.003456,
     "end_time": "2025-07-12T12:02:04.531969",
     "exception": false,
     "start_time": "2025-07-12T12:02:04.528513",
     "status": "completed"
    },
    "tags": []
   },
   "source": [
    "List"
   ]
  },
  {
   "cell_type": "code",
   "execution_count": 5,
   "id": "8d4aef89",
   "metadata": {
    "execution": {
     "iopub.execute_input": "2025-07-12T12:02:04.540642Z",
     "iopub.status.busy": "2025-07-12T12:02:04.540319Z",
     "iopub.status.idle": "2025-07-12T12:02:04.545146Z",
     "shell.execute_reply": "2025-07-12T12:02:04.544129Z"
    },
    "papermill": {
     "duration": 0.011377,
     "end_time": "2025-07-12T12:02:04.547057",
     "exception": false,
     "start_time": "2025-07-12T12:02:04.535680",
     "status": "completed"
    },
    "tags": []
   },
   "outputs": [],
   "source": [
    "arr=[1,1,1,1]"
   ]
  },
  {
   "cell_type": "code",
   "execution_count": 6,
   "id": "e3b532e7",
   "metadata": {
    "execution": {
     "iopub.execute_input": "2025-07-12T12:02:04.555543Z",
     "iopub.status.busy": "2025-07-12T12:02:04.555278Z",
     "iopub.status.idle": "2025-07-12T12:02:04.562009Z",
     "shell.execute_reply": "2025-07-12T12:02:04.561066Z"
    },
    "papermill": {
     "duration": 0.01229,
     "end_time": "2025-07-12T12:02:04.563352",
     "exception": false,
     "start_time": "2025-07-12T12:02:04.551062",
     "status": "completed"
    },
    "tags": []
   },
   "outputs": [
    {
     "data": {
      "text/plain": [
       "[1, 1, 1, 1]"
      ]
     },
     "execution_count": 6,
     "metadata": {},
     "output_type": "execute_result"
    }
   ],
   "source": [
    "arr"
   ]
  },
  {
   "cell_type": "code",
   "execution_count": 7,
   "id": "d6d58f51",
   "metadata": {
    "execution": {
     "iopub.execute_input": "2025-07-12T12:02:04.571605Z",
     "iopub.status.busy": "2025-07-12T12:02:04.571307Z",
     "iopub.status.idle": "2025-07-12T12:02:04.575502Z",
     "shell.execute_reply": "2025-07-12T12:02:04.574652Z"
    },
    "papermill": {
     "duration": 0.010173,
     "end_time": "2025-07-12T12:02:04.577231",
     "exception": false,
     "start_time": "2025-07-12T12:02:04.567058",
     "status": "completed"
    },
    "tags": []
   },
   "outputs": [],
   "source": [
    "arr.insert(1,'rakib')"
   ]
  },
  {
   "cell_type": "code",
   "execution_count": 8,
   "id": "fac6fb96",
   "metadata": {
    "execution": {
     "iopub.execute_input": "2025-07-12T12:02:04.586158Z",
     "iopub.status.busy": "2025-07-12T12:02:04.585876Z",
     "iopub.status.idle": "2025-07-12T12:02:04.592195Z",
     "shell.execute_reply": "2025-07-12T12:02:04.591347Z"
    },
    "papermill": {
     "duration": 0.012564,
     "end_time": "2025-07-12T12:02:04.593863",
     "exception": false,
     "start_time": "2025-07-12T12:02:04.581299",
     "status": "completed"
    },
    "tags": []
   },
   "outputs": [
    {
     "name": "stdout",
     "output_type": "stream",
     "text": [
      "[1, 'rakib', 1, 1, 1]\n"
     ]
    },
    {
     "data": {
      "text/plain": [
       "list"
      ]
     },
     "execution_count": 8,
     "metadata": {},
     "output_type": "execute_result"
    }
   ],
   "source": [
    "print(arr)\n",
    "type(arr)"
   ]
  },
  {
   "cell_type": "code",
   "execution_count": 9,
   "id": "b63dc900",
   "metadata": {
    "execution": {
     "iopub.execute_input": "2025-07-12T12:02:04.604173Z",
     "iopub.status.busy": "2025-07-12T12:02:04.603282Z",
     "iopub.status.idle": "2025-07-12T12:02:04.607527Z",
     "shell.execute_reply": "2025-07-12T12:02:04.606685Z"
    },
    "papermill": {
     "duration": 0.011051,
     "end_time": "2025-07-12T12:02:04.608944",
     "exception": false,
     "start_time": "2025-07-12T12:02:04.597893",
     "status": "completed"
    },
    "tags": []
   },
   "outputs": [],
   "source": [
    "array=\"(Hello { I am from bd)}\""
   ]
  },
  {
   "cell_type": "code",
   "execution_count": 10,
   "id": "7e54c8da",
   "metadata": {
    "execution": {
     "iopub.execute_input": "2025-07-12T12:02:04.617504Z",
     "iopub.status.busy": "2025-07-12T12:02:04.617193Z",
     "iopub.status.idle": "2025-07-12T12:02:04.623321Z",
     "shell.execute_reply": "2025-07-12T12:02:04.622470Z"
    },
    "papermill": {
     "duration": 0.012049,
     "end_time": "2025-07-12T12:02:04.624787",
     "exception": false,
     "start_time": "2025-07-12T12:02:04.612738",
     "status": "completed"
    },
    "tags": []
   },
   "outputs": [
    {
     "data": {
      "text/plain": [
       "dict"
      ]
     },
     "execution_count": 10,
     "metadata": {},
     "output_type": "execute_result"
    }
   ],
   "source": [
    "dic={}\n",
    "type(dic)\n",
    "se=dict()\n",
    "type(se)"
   ]
  },
  {
   "cell_type": "code",
   "execution_count": 11,
   "id": "a72dd0d5",
   "metadata": {
    "execution": {
     "iopub.execute_input": "2025-07-12T12:02:04.634059Z",
     "iopub.status.busy": "2025-07-12T12:02:04.633773Z",
     "iopub.status.idle": "2025-07-12T12:02:04.639492Z",
     "shell.execute_reply": "2025-07-12T12:02:04.638458Z"
    },
    "papermill": {
     "duration": 0.012286,
     "end_time": "2025-07-12T12:02:04.641233",
     "exception": false,
     "start_time": "2025-07-12T12:02:04.628947",
     "status": "completed"
    },
    "tags": []
   },
   "outputs": [
    {
     "name": "stdout",
     "output_type": "stream",
     "text": [
      "{2, 5, 40, 10, 30}\n"
     ]
    }
   ],
   "source": [
    "s={10,2,30,40}\n",
    "s.add(40)\n",
    "s.add(5)\n",
    "s1={7,8,9}\n",
    "print(s.difference(s1))\n"
   ]
  },
  {
   "cell_type": "code",
   "execution_count": 12,
   "id": "2a1ba227",
   "metadata": {
    "execution": {
     "iopub.execute_input": "2025-07-12T12:02:04.650949Z",
     "iopub.status.busy": "2025-07-12T12:02:04.650632Z",
     "iopub.status.idle": "2025-07-12T12:02:04.655243Z",
     "shell.execute_reply": "2025-07-12T12:02:04.654365Z"
    },
    "papermill": {
     "duration": 0.011283,
     "end_time": "2025-07-12T12:02:04.656900",
     "exception": false,
     "start_time": "2025-07-12T12:02:04.645617",
     "status": "completed"
    },
    "tags": []
   },
   "outputs": [],
   "source": [
    "d=dict()\n",
    "type(d)\n",
    "d={'rakib':10,'rafi':12}"
   ]
  },
  {
   "cell_type": "code",
   "execution_count": 13,
   "id": "85568a83",
   "metadata": {
    "execution": {
     "iopub.execute_input": "2025-07-12T12:02:04.666189Z",
     "iopub.status.busy": "2025-07-12T12:02:04.665861Z",
     "iopub.status.idle": "2025-07-12T12:02:04.671178Z",
     "shell.execute_reply": "2025-07-12T12:02:04.670198Z"
    },
    "papermill": {
     "duration": 0.011558,
     "end_time": "2025-07-12T12:02:04.672557",
     "exception": false,
     "start_time": "2025-07-12T12:02:04.660999",
     "status": "completed"
    },
    "tags": []
   },
   "outputs": [
    {
     "name": "stdout",
     "output_type": "stream",
     "text": [
      "('rakib', 10)\n",
      "('rafi', 12)\n"
     ]
    }
   ],
   "source": [
    "for x in d.items():\n",
    "    print(x)"
   ]
  },
  {
   "cell_type": "code",
   "execution_count": 14,
   "id": "64c086c1",
   "metadata": {
    "execution": {
     "iopub.execute_input": "2025-07-12T12:02:04.682218Z",
     "iopub.status.busy": "2025-07-12T12:02:04.681412Z",
     "iopub.status.idle": "2025-07-12T12:02:04.686912Z",
     "shell.execute_reply": "2025-07-12T12:02:04.685883Z"
    },
    "papermill": {
     "duration": 0.011804,
     "end_time": "2025-07-12T12:02:04.688395",
     "exception": false,
     "start_time": "2025-07-12T12:02:04.676591",
     "status": "completed"
    },
    "tags": []
   },
   "outputs": [],
   "source": [
    "student={'Student1': 'Rakib', 'Student2' : 'Tahmid', 'Student3': 'Rafi'}"
   ]
  },
  {
   "cell_type": "code",
   "execution_count": 15,
   "id": "91043aa4",
   "metadata": {
    "execution": {
     "iopub.execute_input": "2025-07-12T12:02:04.697940Z",
     "iopub.status.busy": "2025-07-12T12:02:04.697567Z",
     "iopub.status.idle": "2025-07-12T12:02:04.702608Z",
     "shell.execute_reply": "2025-07-12T12:02:04.701727Z"
    },
    "papermill": {
     "duration": 0.011512,
     "end_time": "2025-07-12T12:02:04.704015",
     "exception": false,
     "start_time": "2025-07-12T12:02:04.692503",
     "status": "completed"
    },
    "tags": []
   },
   "outputs": [],
   "source": [
    "teacher={'teacher1': 'Jahid', 'teacher2' : 'Raiyan', 'teacher3': 'Shaw'}"
   ]
  },
  {
   "cell_type": "code",
   "execution_count": 16,
   "id": "6f2e6e5e",
   "metadata": {
    "execution": {
     "iopub.execute_input": "2025-07-12T12:02:04.712970Z",
     "iopub.status.busy": "2025-07-12T12:02:04.712624Z",
     "iopub.status.idle": "2025-07-12T12:02:04.718050Z",
     "shell.execute_reply": "2025-07-12T12:02:04.716830Z"
    },
    "papermill": {
     "duration": 0.012168,
     "end_time": "2025-07-12T12:02:04.720084",
     "exception": false,
     "start_time": "2025-07-12T12:02:04.707916",
     "status": "completed"
    },
    "tags": []
   },
   "outputs": [],
   "source": [
    "people= {'group1': teacher, 'group2': student,}"
   ]
  },
  {
   "cell_type": "code",
   "execution_count": 17,
   "id": "d2f8e581",
   "metadata": {
    "execution": {
     "iopub.execute_input": "2025-07-12T12:02:04.734534Z",
     "iopub.status.busy": "2025-07-12T12:02:04.733972Z",
     "iopub.status.idle": "2025-07-12T12:02:04.740875Z",
     "shell.execute_reply": "2025-07-12T12:02:04.739828Z"
    },
    "papermill": {
     "duration": 0.014956,
     "end_time": "2025-07-12T12:02:04.742912",
     "exception": false,
     "start_time": "2025-07-12T12:02:04.727956",
     "status": "completed"
    },
    "tags": []
   },
   "outputs": [
    {
     "name": "stdout",
     "output_type": "stream",
     "text": [
      "('group1', {'teacher1': 'Jahid', 'teacher2': 'Raiyan', 'teacher3': 'Shaw'})\n",
      "('group2', {'Student1': 'Rakib', 'Student2': 'Tahmid', 'Student3': 'Rafi'})\n",
      "Raiyan\n"
     ]
    }
   ],
   "source": [
    "for x in people.items():\n",
    "    print(x)\n",
    "print(people['group1']['teacher2'])"
   ]
  },
  {
   "cell_type": "code",
   "execution_count": null,
   "id": "2b0449a6",
   "metadata": {
    "papermill": {
     "duration": 0.005108,
     "end_time": "2025-07-12T12:02:04.754744",
     "exception": false,
     "start_time": "2025-07-12T12:02:04.749636",
     "status": "completed"
    },
    "tags": []
   },
   "outputs": [],
   "source": []
  }
 ],
 "metadata": {
  "kaggle": {
   "accelerator": "none",
   "dataSources": [],
   "dockerImageVersionId": 31089,
   "isGpuEnabled": false,
   "isInternetEnabled": true,
   "language": "python",
   "sourceType": "notebook"
  },
  "kernelspec": {
   "display_name": "Python 3",
   "language": "python",
   "name": "python3"
  },
  "language_info": {
   "codemirror_mode": {
    "name": "ipython",
    "version": 3
   },
   "file_extension": ".py",
   "mimetype": "text/x-python",
   "name": "python",
   "nbconvert_exporter": "python",
   "pygments_lexer": "ipython3",
   "version": "3.11.13"
  },
  "papermill": {
   "default_parameters": {},
   "duration": 8.054437,
   "end_time": "2025-07-12T12:02:05.480679",
   "environment_variables": {},
   "exception": null,
   "input_path": "__notebook__.ipynb",
   "output_path": "__notebook__.ipynb",
   "parameters": {},
   "start_time": "2025-07-12T12:01:57.426242",
   "version": "2.6.0"
  }
 },
 "nbformat": 4,
 "nbformat_minor": 5
}
